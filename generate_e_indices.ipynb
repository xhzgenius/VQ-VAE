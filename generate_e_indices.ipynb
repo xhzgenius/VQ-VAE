{
 "cells": [
  {
   "cell_type": "markdown",
   "metadata": {},
   "source": [
    "# Load VQVAE and dataset. "
   ]
  },
  {
   "cell_type": "code",
   "execution_count": 1,
   "metadata": {},
   "outputs": [],
   "source": [
    "import os\n",
    "os.environ[\"KMP_DUPLICATE_LIB_OK\"]=\"TRUE\"\n",
    "import torch\n",
    "import argparse\n",
    "from models.vqvae import VQVAE\n",
    "import matplotlib.pyplot as plt\n",
    "import matplotlib.image as mpimg\n",
    "from torchvision.utils import make_grid\n",
    "import numpy as np\n",
    "import utils\n",
    "from tqdm import tqdm\n",
    "\n",
    "device = torch.device(\"cuda\" if torch.cuda.is_available() else \"cpu\")\n",
    "\n",
    "def load_model(path):\n",
    "    if torch.cuda.is_available():\n",
    "        data = torch.load(path)\n",
    "    else:\n",
    "        data = torch.load(path, map_location=lambda storage, loc: storage)\n",
    "    \n",
    "    params = data[\"hyperparameters\"]\n",
    "    \n",
    "    model = VQVAE(params['n_hiddens'], params['n_residual_hiddens'],\n",
    "                  params['n_half_conv_layers'],\n",
    "                  params['n_residual_layers'], \n",
    "                  params['n_embeddings'], \n",
    "                  params['embedding_dim'], params['beta']).to(device)\n",
    "\n",
    "    model.load_state_dict(data['model'])\n",
    "    \n",
    "    return model, data\n",
    "\n",
    "\n",
    "model_filename = \"./results/anime 2023-06-09 05.27.15 L2+VGG/14500.pth\"\n",
    "model, vqvae_data = load_model(model_filename)\n",
    "training_data, validation_data, training_loader, validation_loader, x_train_var = utils.load_data_and_data_loaders(\"anime\", batch_size=32)"
   ]
  },
  {
   "cell_type": "markdown",
   "metadata": {},
   "source": [
    "# Generate encoding indices. (1x512)"
   ]
  },
  {
   "cell_type": "code",
   "execution_count": 2,
   "metadata": {},
   "outputs": [
    {
     "name": "stderr",
     "output_type": "stream",
     "text": [
      "100%|██████████| 674/674 [00:11<00:00, 59.01it/s]"
     ]
    },
    {
     "name": "stdout",
     "output_type": "stream",
     "text": [
      "Concat encoding indices of training data, shape: torch.Size([21551, 64])\n"
     ]
    },
    {
     "name": "stderr",
     "output_type": "stream",
     "text": [
      "\n"
     ]
    }
   ],
   "source": [
    "encoding_indices_dataset = []\n",
    "for x, useless in tqdm(training_loader):\n",
    "    x: torch.Tensor = x.to(device)\n",
    "    # print(\"Read image data, shape:\", x.shape) # [32, 3, 64, 64]\n",
    "    embedding_loss, x_recon, encoding_indices, perplexity = model(x)\n",
    "    encoding_indices = encoding_indices.view(-1, 64) # 32x64. 32 is batch size. 64 is the encoding length for single image. \n",
    "    # print(\"Generate encoding indices of image data, shape:\", encoding_indices.shape) # [32, 64]\n",
    "    encoding_indices_dataset.append(encoding_indices)\n",
    "\n",
    "encoding_indices_dataset_tensor = torch.concat(encoding_indices_dataset)\n",
    "print(\"Concat encoding indices of training data, shape:\", encoding_indices_dataset_tensor.shape)"
   ]
  },
  {
   "cell_type": "code",
   "execution_count": 4,
   "metadata": {},
   "outputs": [],
   "source": [
    "os.makedirs(\"./data/encoding_indices/\", exist_ok=True)\n",
    "np.save(\"./data/encoding_indices/anime.npy\", encoding_indices_dataset_tensor.cpu())"
   ]
  },
  {
   "cell_type": "code",
   "execution_count": 6,
   "metadata": {},
   "outputs": [
    {
     "name": "stdout",
     "output_type": "stream",
     "text": [
      "[[502 176 164 ... 484  83   3]\n",
      " [179  94 489 ... 307   0 469]\n",
      " [426 102 364 ... 179  19 180]\n",
      " ...\n",
      " [290 397 350 ... 292  24 110]\n",
      " [401 428 366 ... 133 444  87]\n",
      " [498 495  46 ...  70  39  44]]\n",
      "(21551, 64)\n"
     ]
    }
   ],
   "source": [
    "print(np.load(\"./data/encoding_indices/anime.npy\"))\n",
    "print(np.load(\"./data/encoding_indices/anime.npy\").shape)"
   ]
  }
 ],
 "metadata": {
  "kernelspec": {
   "display_name": "Python 3.7.13 ('ML')",
   "language": "python",
   "name": "python3"
  },
  "language_info": {
   "codemirror_mode": {
    "name": "ipython",
    "version": 3
   },
   "file_extension": ".py",
   "mimetype": "text/x-python",
   "name": "python",
   "nbconvert_exporter": "python",
   "pygments_lexer": "ipython3",
   "version": "3.7.13"
  },
  "orig_nbformat": 4,
  "vscode": {
   "interpreter": {
    "hash": "8809126b2e3f6bd67afd8dec0aaf136102c3339cf179547b748c69a78a732e29"
   }
  }
 },
 "nbformat": 4,
 "nbformat_minor": 2
}
