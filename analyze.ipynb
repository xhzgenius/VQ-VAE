{
 "cells": [
  {
   "cell_type": "code",
   "execution_count": 1,
   "metadata": {},
   "outputs": [
    {
     "name": "stdout",
     "output_type": "stream",
     "text": [
      "tensor([[ 0.0589,  0.7352, -0.4677,  ..., -0.3337,  1.6141, -0.5861],\n",
      "        [ 0.3956, -0.2239, -0.9154,  ..., -2.3184, -1.0008, -0.7696],\n",
      "        [ 0.8924, -1.5093,  2.2775,  ...,  1.1202,  0.2756,  1.5715],\n",
      "        ...,\n",
      "        [-0.6558, -1.1065,  0.4358,  ..., -0.7800, -0.6883,  1.5291],\n",
      "        [ 0.2289,  0.3656, -0.1237,  ..., -0.5308,  1.0468,  1.3578],\n",
      "        [ 0.5841,  0.2510, -1.4022,  ..., -0.2760, -0.1416,  0.4541]],\n",
      "       device='cuda:0')\n",
      "torch.Size([512, 64])\n"
     ]
    }
   ],
   "source": [
    "import os\n",
    "os.environ[\"KMP_DUPLICATE_LIB_OK\"]=\"TRUE\"\n",
    "import torch\n",
    "import argparse\n",
    "import matplotlib.pyplot as plt\n",
    "import matplotlib.image as mpimg\n",
    "from torchvision.utils import make_grid\n",
    "import numpy as np\n",
    "import utils\n",
    "\n",
    "device = torch.device(\"cuda\" if torch.cuda.is_available() else \"cpu\")\n",
    "\n",
    "model_filename = \"./results/CIFAR10 2023-06-08 21.52.27 VGG11/5000.pth\"\n",
    "model, train_results, hyper = utils.load_model(model_filename)\n",
    "\n",
    "embedding_vectors = model.vector_quantizer.embedding_vectors.state_dict()[\"weight\"]\n",
    "decoder = model.decoder\n",
    "\n",
    "print(embedding_vectors)\n",
    "print(embedding_vectors.shape)"
   ]
  }
 ],
 "metadata": {
  "kernelspec": {
   "display_name": "Python 3.7.13 ('ML')",
   "language": "python",
   "name": "python3"
  },
  "language_info": {
   "codemirror_mode": {
    "name": "ipython",
    "version": 3
   },
   "file_extension": ".py",
   "mimetype": "text/x-python",
   "name": "python",
   "nbconvert_exporter": "python",
   "pygments_lexer": "ipython3",
   "version": "3.7.13"
  },
  "orig_nbformat": 4,
  "vscode": {
   "interpreter": {
    "hash": "8809126b2e3f6bd67afd8dec0aaf136102c3339cf179547b748c69a78a732e29"
   }
  }
 },
 "nbformat": 4,
 "nbformat_minor": 2
}
