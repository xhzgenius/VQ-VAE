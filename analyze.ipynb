{
 "cells": [
  {
   "cell_type": "code",
   "execution_count": 4,
   "metadata": {},
   "outputs": [
    {
     "name": "stdout",
     "output_type": "stream",
     "text": [
      "tensor([[-0.7609,  0.2676, -1.1720,  ..., -1.4702,  0.2267, -0.8950],\n",
      "        [ 1.9002,  1.4214,  0.5521,  ..., -0.3673, -0.9605,  1.7646],\n",
      "        [ 0.5776,  2.2929, -1.2274,  ..., -0.1769,  0.9094,  0.6591],\n",
      "        ...,\n",
      "        [ 0.3460,  0.8079,  0.4739,  ...,  0.1287,  1.1337, -0.4466],\n",
      "        [ 2.6489,  0.0886, -0.9908,  ...,  0.7021, -0.4717, -0.4823],\n",
      "        [-1.1340,  0.6094, -1.2185,  ...,  0.8716, -1.1764, -0.3658]],\n",
      "       device='cuda:0')\n",
      "torch.Size([512, 64])\n"
     ]
    }
   ],
   "source": [
    "import os\n",
    "os.environ[\"KMP_DUPLICATE_LIB_OK\"]=\"TRUE\"\n",
    "import torch\n",
    "import argparse\n",
    "import matplotlib.pyplot as plt\n",
    "import matplotlib.image as mpimg\n",
    "from torchvision.utils import make_grid\n",
    "import numpy as np\n",
    "import utils\n",
    "\n",
    "device = torch.device(\"cuda\" if torch.cuda.is_available() else \"cpu\")\n",
    "\n",
    "model_filename = \"./results/CIFAR10 2023-06-08 20.40.03/5000.pth\"\n",
    "model, vqvae_data = utils.load_model(model_filename)\n",
    "\n",
    "embedding_vectors = model.vector_quantizer.embedding_vectors.state_dict()[\"weight\"]\n",
    "decoder = model.decoder\n",
    "\n",
    "print(embedding_vectors)\n",
    "print(embedding_vectors.shape)"
   ]
  }
 ],
 "metadata": {
  "kernelspec": {
   "display_name": "Python 3.7.13 ('ML')",
   "language": "python",
   "name": "python3"
  },
  "language_info": {
   "codemirror_mode": {
    "name": "ipython",
    "version": 3
   },
   "file_extension": ".py",
   "mimetype": "text/x-python",
   "name": "python",
   "nbconvert_exporter": "python",
   "pygments_lexer": "ipython3",
   "version": "3.7.13"
  },
  "orig_nbformat": 4,
  "vscode": {
   "interpreter": {
    "hash": "8809126b2e3f6bd67afd8dec0aaf136102c3339cf179547b748c69a78a732e29"
   }
  }
 },
 "nbformat": 4,
 "nbformat_minor": 2
}
