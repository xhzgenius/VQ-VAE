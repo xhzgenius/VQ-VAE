{
 "cells": [
  {
   "cell_type": "code",
   "execution_count": 1,
   "metadata": {},
   "outputs": [
    {
     "name": "stdout",
     "output_type": "stream",
     "text": [
      "tensor([[ 3.1923, -2.3453, -6.0885,  ..., -4.4062, -0.5639,  0.0961],\n",
      "        [ 2.1021, -3.0906, -4.3037,  ..., -3.1593, -2.4910,  0.9957],\n",
      "        [-0.3178, -1.3466, -0.2387,  ..., -0.6159, -0.3438, -0.3295],\n",
      "        ...,\n",
      "        [ 0.6537,  2.9692,  5.2360,  ...,  1.7315,  2.7595,  1.3179],\n",
      "        [-1.3901, -0.4414,  1.1874,  ...,  2.4949, -0.1678, -2.1083],\n",
      "        [ 1.6283,  2.9779,  1.4243,  ...,  2.0436,  0.6330, -3.4298]],\n",
      "       device='cuda:0')\n",
      "torch.Size([512, 64])\n"
     ]
    }
   ],
   "source": [
    "import os\n",
    "# os.environ[\"KMP_DUPLICATE_LIB_OK\"]=\"TRUE\"\n",
    "import torch\n",
    "import argparse\n",
    "import matplotlib.pyplot as plt\n",
    "import matplotlib.image as mpimg\n",
    "from torchvision.utils import make_grid\n",
    "import numpy as np\n",
    "import utils\n",
    "\n",
    "device = torch.device(\"cuda\" if torch.cuda.is_available() else \"cpu\")\n",
    "\n",
    "model_filename = \"./results/anime 2023-06-09 05.27.15 L2+VGG/14500.pth\"\n",
    "model, train_results, hyper = utils.load_model(model_filename)\n",
    "\n",
    "embedding_vectors = model.vector_quantizer.embedding_vectors.state_dict()[\"weight\"]\n",
    "decoder = model.decoder\n",
    "\n",
    "print(embedding_vectors)\n",
    "print(embedding_vectors.shape)"
   ]
  }
 ],
 "metadata": {
  "kernelspec": {
   "display_name": "Python 3.7.13 ('ML')",
   "language": "python",
   "name": "python3"
  },
  "language_info": {
   "codemirror_mode": {
    "name": "ipython",
    "version": 3
   },
   "file_extension": ".py",
   "mimetype": "text/x-python",
   "name": "python",
   "nbconvert_exporter": "python",
   "pygments_lexer": "ipython3",
   "version": "3.7.13"
  },
  "orig_nbformat": 4,
  "vscode": {
   "interpreter": {
    "hash": "8809126b2e3f6bd67afd8dec0aaf136102c3339cf179547b748c69a78a732e29"
   }
  }
 },
 "nbformat": 4,
 "nbformat_minor": 2
}
